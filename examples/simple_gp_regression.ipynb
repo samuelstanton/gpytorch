{
 "cells": [
  {
   "cell_type": "markdown",
   "metadata": {
    "deletable": true,
    "editable": true
   },
   "source": [
    "This example is the simplest form of using an RBF kernel in an `ExactGP` module for regression. This basic model is usable when there is not much training data and no advanced techniques are required.\n",
    "\n",
    "In this example, we’re modeling y = sin(2*pi*x)\n",
    "\n",
    "Chapter 2 of Gaussian Processes for Machine Learning provides a very thorough introduction to GP regression (this entire text is highly recommended): http://www.gaussianprocess.org/gpml/chapters/RW2.pdf"
   ]
  },
  {
   "cell_type": "code",
   "execution_count": 1,
   "metadata": {
    "collapsed": false,
    "deletable": true,
    "editable": true
   },
   "outputs": [],
   "source": [
    "import math\n",
    "import torch\n",
    "import gpytorch\n",
    "from matplotlib import pyplot as plt\n",
    "\n",
    "%matplotlib inline\n",
    "%load_ext autoreload\n",
    "%autoreload 2"
   ]
  },
  {
   "cell_type": "code",
   "execution_count": 2,
   "metadata": {
    "collapsed": true,
    "deletable": true,
    "editable": true
   },
   "outputs": [],
   "source": [
    "from torch.autograd import Variable\n",
    "# Training data is 11 points in [0,1] inclusive regularly spaced\n",
    "train_x = Variable(torch.linspace(0, 1, 11))\n",
    "# True function is sin(2*pi*x) with Gaussian noise N(0,0.04)\n",
    "train_y = Variable(torch.sin(train_x.data * (2 * math.pi)) + torch.randn(train_x.size()) * 0.2)"
   ]
  },
  {
   "cell_type": "code",
   "execution_count": 3,
   "metadata": {
    "collapsed": true,
    "deletable": true,
    "editable": true
   },
   "outputs": [],
   "source": [
    "from torch import optim\n",
    "from gpytorch.kernels import RBFKernel\n",
    "from gpytorch.means import ConstantMean\n",
    "from gpytorch.likelihoods import GaussianLikelihood\n",
    "from gpytorch.random_variables import GaussianRandomVariable"
   ]
  },
  {
   "cell_type": "code",
   "execution_count": 4,
   "metadata": {
    "collapsed": false,
    "deletable": true,
    "editable": true
   },
   "outputs": [],
   "source": [
    "# We will use the simplest form of GP model, exact inference\n",
    "class ExactGPModel(gpytorch.models.ExactGP):\n",
    "    def __init__(self, train_x, train_y, likelihood):\n",
    "        super(ExactGPModel, self).__init__(train_x, train_y, likelihood)\n",
    "        # Our mean function is constant in the interval [-1,1]\n",
    "        self.mean_module = ConstantMean(constant_bounds=(-1, 1))\n",
    "        # We use the RBF kernel as a universal approximator\n",
    "        self.covar_module = RBFKernel(log_lengthscale_bounds=(-5, 5))\n",
    "    \n",
    "    def forward(self, x):\n",
    "        mean_x = self.mean_module(x)\n",
    "        covar_x = self.covar_module(x)\n",
    "        # Return moddl output as GaussianRandomVariable\n",
    "        return GaussianRandomVariable(mean_x, covar_x)\n",
    "\n",
    "# initialize likelihood and model\n",
    "likelihood = GaussianLikelihood(log_noise_bounds=(-5, 5))\n",
    "model = ExactGPModel(train_x.data, train_y.data, likelihood)"
   ]
  },
  {
   "cell_type": "code",
   "execution_count": 5,
   "metadata": {
    "collapsed": false,
    "deletable": true,
    "editable": true,
    "scrolled": false
   },
   "outputs": [
    {
     "name": "stdout",
     "output_type": "stream",
     "text": [
      "Iter 1/50 - Loss: 1.236   log_lengthscale: 0.000   log_noise: 0.000\n",
      "Iter 2/50 - Loss: 1.191   log_lengthscale: -0.100   log_noise: -0.100\n",
      "Iter 3/50 - Loss: 1.204   log_lengthscale: -0.190   log_noise: -0.200\n",
      "Iter 4/50 - Loss: 1.106   log_lengthscale: -0.232   log_noise: -0.299\n",
      "Iter 5/50 - Loss: 1.146   log_lengthscale: -0.299   log_noise: -0.399\n",
      "Iter 6/50 - Loss: 1.060   log_lengthscale: -0.373   log_noise: -0.498\n",
      "Iter 7/50 - Loss: 1.058   log_lengthscale: -0.452   log_noise: -0.597\n",
      "Iter 8/50 - Loss: 1.029   log_lengthscale: -0.538   log_noise: -0.696\n",
      "Iter 9/50 - Loss: 0.949   log_lengthscale: -0.628   log_noise: -0.793\n",
      "Iter 10/50 - Loss: 0.895   log_lengthscale: -0.722   log_noise: -0.891\n",
      "Iter 11/50 - Loss: 0.924   log_lengthscale: -0.813   log_noise: -0.988\n",
      "Iter 12/50 - Loss: 0.997   log_lengthscale: -0.907   log_noise: -1.084\n",
      "Iter 13/50 - Loss: 0.834   log_lengthscale: -1.005   log_noise: -1.180\n",
      "Iter 14/50 - Loss: 0.898   log_lengthscale: -1.095   log_noise: -1.276\n",
      "Iter 15/50 - Loss: 0.875   log_lengthscale: -1.189   log_noise: -1.371\n",
      "Iter 16/50 - Loss: 0.893   log_lengthscale: -1.283   log_noise: -1.467\n",
      "Iter 17/50 - Loss: 0.824   log_lengthscale: -1.334   log_noise: -1.562\n",
      "Iter 18/50 - Loss: 0.795   log_lengthscale: -1.360   log_noise: -1.657\n",
      "Iter 19/50 - Loss: 0.906   log_lengthscale: -1.382   log_noise: -1.752\n",
      "Iter 20/50 - Loss: 0.695   log_lengthscale: -1.403   log_noise: -1.845\n",
      "Iter 21/50 - Loss: 0.706   log_lengthscale: -1.413   log_noise: -1.939\n",
      "Iter 22/50 - Loss: 0.925   log_lengthscale: -1.418   log_noise: -2.033\n",
      "Iter 23/50 - Loss: 0.720   log_lengthscale: -1.423   log_noise: -2.124\n",
      "Iter 24/50 - Loss: 0.721   log_lengthscale: -1.409   log_noise: -2.214\n",
      "Iter 25/50 - Loss: 0.549   log_lengthscale: -1.383   log_noise: -2.303\n",
      "Iter 26/50 - Loss: 0.533   log_lengthscale: -1.364   log_noise: -2.391\n",
      "Iter 27/50 - Loss: 0.652   log_lengthscale: -1.336   log_noise: -2.479\n",
      "Iter 28/50 - Loss: 0.715   log_lengthscale: -1.313   log_noise: -2.565\n",
      "Iter 29/50 - Loss: 0.522   log_lengthscale: -1.311   log_noise: -2.649\n",
      "Iter 30/50 - Loss: 0.408   log_lengthscale: -1.284   log_noise: -2.729\n",
      "Iter 31/50 - Loss: 0.744   log_lengthscale: -1.262   log_noise: -2.809\n",
      "Iter 32/50 - Loss: 0.499   log_lengthscale: -1.258   log_noise: -2.883\n",
      "Iter 33/50 - Loss: 0.486   log_lengthscale: -1.239   log_noise: -2.954\n",
      "Iter 34/50 - Loss: 0.698   log_lengthscale: -1.240   log_noise: -3.022\n",
      "Iter 35/50 - Loss: 0.505   log_lengthscale: -1.267   log_noise: -3.085\n",
      "Iter 36/50 - Loss: 0.481   log_lengthscale: -1.288   log_noise: -3.143\n",
      "Iter 37/50 - Loss: 0.610   log_lengthscale: -1.306   log_noise: -3.197\n",
      "Iter 38/50 - Loss: 0.727   log_lengthscale: -1.330   log_noise: -3.245\n",
      "Iter 39/50 - Loss: 0.513   log_lengthscale: -1.329   log_noise: -3.284\n",
      "Iter 40/50 - Loss: 0.558   log_lengthscale: -1.348   log_noise: -3.320\n",
      "Iter 41/50 - Loss: 0.515   log_lengthscale: -1.356   log_noise: -3.349\n",
      "Iter 42/50 - Loss: 0.482   log_lengthscale: -1.367   log_noise: -3.374\n",
      "Iter 43/50 - Loss: 0.591   log_lengthscale: -1.367   log_noise: -3.394\n",
      "Iter 44/50 - Loss: 0.326   log_lengthscale: -1.365   log_noise: -3.409\n",
      "Iter 45/50 - Loss: 0.242   log_lengthscale: -1.345   log_noise: -3.420\n",
      "Iter 46/50 - Loss: 0.421   log_lengthscale: -1.328   log_noise: -3.430\n",
      "Iter 47/50 - Loss: 0.419   log_lengthscale: -1.290   log_noise: -3.435\n",
      "Iter 48/50 - Loss: 0.509   log_lengthscale: -1.254   log_noise: -3.436\n",
      "Iter 49/50 - Loss: 0.689   log_lengthscale: -1.211   log_noise: -3.431\n",
      "Iter 50/50 - Loss: 0.519   log_lengthscale: -1.193   log_noise: -3.421\n"
     ]
    }
   ],
   "source": [
    "# Find optimal model hyperparameters\n",
    "model.train()\n",
    "likelihood.train()\n",
    "\n",
    "# Use the adam optimizer\n",
    "optimizer = torch.optim.Adam([\n",
    "    {'params': model.parameters()},  # Includes GaussianLikelihood parameters\n",
    "], lr=0.1)\n",
    "\n",
    "# \"Loss\" for GPs - the marginal log likelihood\n",
    "mll = gpytorch.mlls.ExactMarginalLogLikelihood(likelihood, model)\n",
    "\n",
    "training_iter = 50\n",
    "for i in range(training_iter):\n",
    "    # Zero gradients from previous iteration\n",
    "    optimizer.zero_grad()\n",
    "    # Output from model\n",
    "    output = model(train_x)\n",
    "    # Calc loss and backprop gradients\n",
    "    loss = -mll(output, train_y)\n",
    "    loss.backward()\n",
    "    print('Iter %d/%d - Loss: %.3f   log_lengthscale: %.3f   log_noise: %.3f' % (\n",
    "        i + 1, training_iter, loss.data[0],\n",
    "        model.covar_module.log_lengthscale.data[0, 0],\n",
    "        model.likelihood.log_noise.data[0]\n",
    "    ))\n",
    "    optimizer.step()"
   ]
  },
  {
   "cell_type": "code",
   "execution_count": 6,
   "metadata": {
    "collapsed": false,
    "deletable": true,
    "editable": true,
    "scrolled": false
   },
   "outputs": [
    {
     "data": {
      "image/png": "[encoded data removed]",
      "text/plain": [
       "<matplotlib.figure.Figure at 0x7f5a30400b10>"
      ]
     },
     "metadata": {},
     "output_type": "display_data"
    }
   ],
   "source": [
    "# Put model and likelihood into eval mode\n",
    "model.eval()\n",
    "likelihood.eval()\n",
    "\n",
    "# Initialize plot\n",
    "f, observed_ax = plt.subplots(1, 1, figsize=(4, 3))\n",
    "# Test points are regularly spaced along [0,1] every 0.02\n",
    "test_x = Variable(torch.linspace(0, 1, 51))\n",
    "# Make predictions by feeding model through likelihood\n",
    "with gpytorch.fast_pred_var():\n",
    "    observed_pred = likelihood(model(test_x))\n",
    "\n",
    "# Define plotting function\n",
    "def ax_plot(ax, rand_var, title):\n",
    "    # Get upper and lower confidence bounds\n",
    "    lower, upper = rand_var.confidence_region()\n",
    "    # Plot training data as black stars\n",
    "    ax.plot(train_x.data.numpy(), train_y.data.numpy(), 'k*')\n",
    "    # Plot predictive means as blue line\n",
    "    ax.plot(test_x.data.numpy(), rand_var.mean().data.numpy(), 'b')\n",
    "    # Shade between the lower and upper confidence bounds\n",
    "    ax.fill_between(test_x.data.numpy(), lower.data.numpy(), upper.data.numpy(), alpha=0.5)\n",
    "    ax.set_ylim([-3, 3])\n",
    "    ax.legend(['Observed Data', 'Mean', 'Confidence'])\n",
    "    ax.set_title(title)\n",
    "# Plot the predictions\n",
    "ax_plot(observed_ax, observed_pred, 'Observed Values (Likelihood)')"
   ]
  },
  {
   "cell_type": "code",
   "execution_count": 13,
   "metadata": {
    "collapsed": false,
    "deletable": true,
    "editable": true
   },
   "outputs": [
    {
     "name": "stdout",
     "output_type": "stream",
     "text": [
      "None\n",
      "tensor([ 1.6322, -4.7900])\n"
     ]
    }
   ],
   "source": [
    "u = torch.nn.Parameter(torch.Tensor([0.2, 0.4]))\n",
    "outcome_samples = model(u).sample(64)\n",
    "expected_val = outcome_samples.mean(1).sum()\n",
    "print(u.grad)\n",
    "expected_val.backward()\n",
    "print(u.grad)"
   ]
  },
  {
   "cell_type": "code",
   "execution_count": null,
   "metadata": {
    "collapsed": true
   },
   "outputs": [],
   "source": []
  }
 ],
 "metadata": {
  "anaconda-cloud": {},
  "kernelspec": {
   "display_name": "Python [conda env:pilco]",
   "language": "python",
   "name": "conda-env-pilco-py"
  },
  "language_info": {
   "codemirror_mode": {
    "name": "ipython",
    "version": 2
   },
   "file_extension": ".py",
   "mimetype": "text/x-python",
   "name": "python",
   "nbconvert_exporter": "python",
   "pygments_lexer": "ipython2",
   "version": "2.7.13"
  }
 },
 "nbformat": 4,
 "nbformat_minor": 1
}
